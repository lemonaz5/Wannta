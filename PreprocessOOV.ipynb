{
 "cells": [
  {
   "cell_type": "code",
   "execution_count": 7,
   "metadata": {},
   "outputs": [],
   "source": [
    "words = set()\n",
    "with open('tokenized_out.txt', 'r') as fp:\n",
    "    for idx, line in enumerate(fp):\n",
    "        words = words.union(set(line.strip().split('|')))"
   ]
  },
  {
   "cell_type": "code",
   "execution_count": 12,
   "metadata": {},
   "outputs": [],
   "source": [
    "with open('queries.txt', 'w') as fp:\n",
    "    for word in words:\n",
    "        if len(word) > 0:\n",
    "            fp.write(\"{}\\n\".format(word))"
   ]
  },
  {
   "cell_type": "code",
   "execution_count": 3,
   "metadata": {},
   "outputs": [],
   "source": [
    "sentences = []\n",
    "with open('tokenized_out.txt', 'r') as fp:\n",
    "    for idx, line in enumerate(fp):\n",
    "        sentences.append(\" \".join(line.strip().split('|')))\n",
    "\n",
    "with open('sentences.txt', 'w') as fp:\n",
    "    for idx, sen in enumerate(sentences):\n",
    "        if idx%2 != 0:\n",
    "            fp.write(\"{}\\n\".format(sen))"
   ]
  },
  {
   "cell_type": "code",
   "execution_count": null,
   "metadata": {},
   "outputs": [],
   "source": []
  },
  {
   "cell_type": "code",
   "execution_count": null,
   "metadata": {},
   "outputs": [],
   "source": []
  }
 ],
 "metadata": {
  "kernelspec": {
   "display_name": "Python 3",
   "language": "python",
   "name": "python3"
  },
  "language_info": {
   "codemirror_mode": {
    "name": "ipython",
    "version": 3
   },
   "file_extension": ".py",
   "mimetype": "text/x-python",
   "name": "python",
   "nbconvert_exporter": "python",
   "pygments_lexer": "ipython3",
   "version": "3.6.4"
  }
 },
 "nbformat": 4,
 "nbformat_minor": 2
}
