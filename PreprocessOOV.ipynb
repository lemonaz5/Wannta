{
 "cells": [
  {
   "cell_type": "code",
   "execution_count": 1,
   "metadata": {},
   "outputs": [],
   "source": [
    "# For Chat Bot Response\n",
    "sentences = []\n",
    "with open('tokenized_out.txt', 'r') as fp:\n",
    "    for idx, line in enumerate(fp):\n",
    "        sentences.append(\" \".join(line.strip().split('|')))\n",
    "\n",
    "with open('sentences.txt', 'w') as fp:\n",
    "    for idx, sen in enumerate(sentences):\n",
    "        if idx%2 != 0:\n",
    "            fp.write(\"{}\\n\".format(sen))"
   ]
  },
  {
   "cell_type": "code",
   "execution_count": 2,
   "metadata": {},
   "outputs": [],
   "source": [
    "# For Human Input\n",
    "sentences = []\n",
    "with open('tokenized_out.txt', 'r') as fp:\n",
    "    for idx, line in enumerate(fp):\n",
    "        sentences.append(\" \".join(line.strip().split('|')))\n",
    "\n",
    "with open('sentencesHuman.txt', 'w') as fp:\n",
    "    for idx, sen in enumerate(sentences):\n",
    "        if idx%2 == 0:\n",
    "            fp.write(\"{}\\n\".format(sen))"
   ]
  },
  {
   "cell_type": "code",
   "execution_count": null,
   "metadata": {},
   "outputs": [],
   "source": []
  }
 ],
 "metadata": {
  "kernelspec": {
   "display_name": "Python 3",
   "language": "python",
   "name": "python3"
  },
  "language_info": {
   "codemirror_mode": {
    "name": "ipython",
    "version": 3
   },
   "file_extension": ".py",
   "mimetype": "text/x-python",
   "name": "python",
   "nbconvert_exporter": "python",
   "pygments_lexer": "ipython3",
   "version": "3.6.4"
  }
 },
 "nbformat": 4,
 "nbformat_minor": 2
}
