{
 "cells": [
  {
   "cell_type": "code",
   "execution_count": 84,
   "metadata": {},
   "outputs": [],
   "source": [
    "botname = 'แว่นเป๋อ❄️'\n",
    "in_folder = '/home/burin/Documents/NLP data/process/'"
   ]
  },
  {
   "cell_type": "code",
   "execution_count": 114,
   "metadata": {},
   "outputs": [
    {
     "name": "stdout",
     "output_type": "stream",
     "text": [
      "[LINE] Chat with KNT.txt\n",
      "[LINE] Chat with OaT.txt\n",
      "[LINE] Chat with mos.txt\n",
      "[LINE] Chat with NoTT'z 🔩.txt\n",
      "[LINE] Chat with Ten'ten.txt\n",
      "LINE Chat with Jaja 2559 (1).txt\n",
      "[LINE] Chat with Fair.txt\n"
     ]
    }
   ],
   "source": [
    "import os\n",
    "convs = []\n",
    "for file in os.listdir(in_folder):\n",
    "    if(file == 'out.txt'):\n",
    "        continue\n",
    "    with open(in_folder+file) as f:\n",
    "        print(file)\n",
    "\n",
    "        conv = []\n",
    "        isFirst = True\n",
    "        isMultipleLine = False\n",
    "        is_human_first = True\n",
    "\n",
    "        combined_sent = []\n",
    "        prev_send = ''\n",
    "        \n",
    "        for line in f:            \n",
    "            sender = ''\n",
    "            sent = ''\n",
    "            spl = line.strip().split('\\t')\n",
    "            \n",
    "            if(len(spl) == 3):\n",
    "                \n",
    "                sender = spl[1]\n",
    "                sent = spl[2]\n",
    "                \n",
    "                if(isFirst):\n",
    "                    if(sender == botname):\n",
    "                        is_human_first = False\n",
    "                    isFirst = False\n",
    "\n",
    "                if(sent in ['[Photo]','[Sticker]','[File]' , '[Video]']):\n",
    "                    continue\n",
    "                if(sent[0] == '☎'):\n",
    "                    continue\n",
    "                \n",
    "                if(sent[0] == '\"'):\n",
    "                    sent = sent[1:]\n",
    "                    isMultipleLine = True\n",
    "                    \n",
    "                if(sender != prev_send):\n",
    "                    conv.append(' '.join(combined_sent))\n",
    "                    combined_sent = [sent]\n",
    "                    prev_send = sender\n",
    "                    \n",
    "                else:\n",
    "                    combined_sent.append(sent)\n",
    "            \n",
    "            elif(isMultipleLine):\n",
    "                \n",
    "                combined_sent.append(line.strip().strip('\"'))\n",
    "                if(line[-1] == '\"'):\n",
    "                    isMultipleLine = False\n",
    "\n",
    "                \n",
    "#             print(combined_sent)\n",
    "\n",
    "        combined_sent.append(sent)\n",
    "        if( is_human_first ):\n",
    "            conv = conv[1:]\n",
    "        convs.append(conv)\n",
    "        \n",
    "with open(in_folder+'out.txt', 'w') as o:\n",
    "    for con in convs:\n",
    "        for sent in con:\n",
    "            o.write(sent+'\\n')"
   ]
  },
  {
   "cell_type": "code",
   "execution_count": null,
   "metadata": {},
   "outputs": [],
   "source": []
  }
 ],
 "metadata": {
  "kernelspec": {
   "display_name": "Python 3",
   "language": "python",
   "name": "python3"
  },
  "language_info": {
   "codemirror_mode": {
    "name": "ipython",
    "version": 3
   },
   "file_extension": ".py",
   "mimetype": "text/x-python",
   "name": "python",
   "nbconvert_exporter": "python",
   "pygments_lexer": "ipython3",
   "version": "3.5.2"
  }
 },
 "nbformat": 4,
 "nbformat_minor": 2
}
